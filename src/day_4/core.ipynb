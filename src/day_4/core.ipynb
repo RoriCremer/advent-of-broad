{
 "cells": [
  {
   "cell_type": "markdown",
   "metadata": {},
   "source": [
    "# Advent Of Code 2018\n",
    "\n",
    "[Day 4: Repose Record](https://adventofcode.com/2018/day/4#part2)\n",
    "\n",
    "Assume you are using Python 3"
   ]
  },
  {
   "cell_type": "code",
   "execution_count": 11,
   "metadata": {},
   "outputs": [],
   "source": [
    "from collections import Counter, defaultdict"
   ]
  },
  {
   "cell_type": "code",
   "execution_count": 12,
   "metadata": {},
   "outputs": [],
   "source": [
    "def load_data(file: str) -> list:\n",
    "    \"\"\"Load data from FILE.\"\"\"\n",
    "    with open(file) as f:\n",
    "        data = f.read().splitlines()\n",
    "    return data"
   ]
  },
  {
   "cell_type": "code",
   "execution_count": 13,
   "metadata": {},
   "outputs": [
    {
     "data": {
      "text/plain": "['[1518-03-17 00:04] Guard #2707 begins shift',\n '[1518-03-17 00:26] falls asleep',\n '[1518-03-17 00:55] wakes up',\n '[1518-03-18 00:04] Guard #2707 begins shift',\n '[1518-03-18 00:32] falls asleep',\n '[1518-03-18 00:44] wakes up',\n '[1518-03-19 00:02] Guard #523 begins shift',\n '[1518-03-19 00:16] falls asleep',\n '[1518-03-19 00:19] wakes up',\n '[1518-03-20 00:04] Guard #2081 begins shift']"
     },
     "execution_count": 13,
     "metadata": {},
     "output_type": "execute_result"
    }
   ],
   "source": [
    "inputs = load_data(\"input.txt\")\n",
    "sorted_inputs = sorted(inputs)\n",
    "\n",
    "# show the first 10 lines as example\n",
    "sorted_inputs[:10]"
   ]
  },
  {
   "cell_type": "code",
   "execution_count": 14,
   "metadata": {},
   "outputs": [],
   "source": [
    "def get_guard(line: str) -> str:\n",
    "    \"\"\"Parse out the guard id from LINE.\n",
    "    An example of LINE looks like:\n",
    "    \n",
    "    [1518-03-17 00:04] Guard #2707 begins shift\n",
    "    \"\"\"\n",
    "    return line.split(\" \")[3]\n",
    "\n",
    "\n",
    "def get_time(line: str) -> str:\n",
    "    \"\"\"Parse out the time from LINE.\n",
    "    Example of LINE look like:\n",
    "    \n",
    "    [1518-03-19 00:16] falls asleep\n",
    "    [1518-03-18 00:44] wakes up\n",
    "    \"\"\"\n",
    "    time = line.split(\" \")[1]\n",
    "    minutes = time[: -1].split(\":\")[-1]\n",
    "    return minutes"
   ]
  },
  {
   "cell_type": "code",
   "execution_count": 15,
   "metadata": {},
   "outputs": [],
   "source": [
    "mymap = defaultdict(list)\n",
    "current_guard = None\n",
    "\n",
    "\n",
    "for idx, line in enumerate(sorted_inputs):\n",
    "    if \"Guard #\" in line:\n",
    "        current_guard = get_guard(line)\n",
    "    else:\n",
    "        if \"falls asleep\" in line:\n",
    "            sleep = int(get_time(line))\n",
    "        elif \"wakes up\" in line:\n",
    "            wake = int(get_time(line))\n",
    "            mymap[current_guard].extend(list(range(sleep, wake)))"
   ]
  },
  {
   "cell_type": "code",
   "execution_count": 16,
   "metadata": {},
   "outputs": [
    {
     "data": {
      "text/plain": "[(457, '#2707'),\n (340, '#523'),\n (171, '#2081'),\n (173, '#89'),\n (206, '#2003'),\n (236, '#1171'),\n (216, '#1409'),\n (483, '#1523'),\n (157, '#3373'),\n (353, '#1069'),\n (480, '#1607'),\n (185, '#1789'),\n (405, '#107'),\n (231, '#2287'),\n (351, '#3469'),\n (210, '#1439'),\n (283, '#2857'),\n (110, '#2069'),\n (262, '#2399'),\n (317, '#1627')]"
     },
     "execution_count": 16,
     "metadata": {},
     "output_type": "execute_result"
    }
   ],
   "source": [
    "sleep_per_guard = [(len(val), key) for key, val in mymap.items()]\n",
    "sleep_per_guard"
   ]
  },
  {
   "cell_type": "code",
   "execution_count": 17,
   "metadata": {},
   "outputs": [
    {
     "data": {
      "text/plain": "(483, '#1523')"
     },
     "execution_count": 17,
     "metadata": {},
     "output_type": "execute_result"
    }
   ],
   "source": [
    "most_sleepy_guard = max(sleep_per_guard)\n",
    "most_sleepy_guard"
   ]
  },
  {
   "cell_type": "code",
   "execution_count": 18,
   "metadata": {},
   "outputs": [
    {
     "data": {
      "text/plain": "Counter({41: 13,\n         42: 13,\n         43: 14,\n         44: 12,\n         45: 11,\n         46: 11,\n         47: 11,\n         48: 12,\n         49: 11,\n         50: 11,\n         51: 9,\n         52: 9,\n         53: 7,\n         54: 7,\n         55: 6,\n         56: 5,\n         14: 7,\n         15: 7,\n         16: 7,\n         17: 9,\n         18: 10,\n         19: 10,\n         20: 10,\n         21: 10,\n         22: 9,\n         23: 9,\n         24: 9,\n         25: 9,\n         26: 10,\n         27: 10,\n         28: 10,\n         29: 11,\n         30: 11,\n         31: 12,\n         32: 12,\n         33: 12,\n         34: 12,\n         35: 12,\n         36: 11,\n         37: 11,\n         38: 11,\n         39: 11,\n         40: 11,\n         57: 3,\n         58: 2,\n         1: 1,\n         2: 1,\n         3: 1,\n         4: 2,\n         5: 3,\n         6: 3,\n         7: 3,\n         8: 4,\n         9: 5,\n         10: 5,\n         11: 5,\n         12: 5,\n         13: 5})"
     },
     "execution_count": 18,
     "metadata": {},
     "output_type": "execute_result"
    }
   ],
   "source": [
    "guards_counter = Counter(mymap[most_sleepy_guard[1]])\n",
    "guards_counter"
   ]
  },
  {
   "cell_type": "code",
   "execution_count": 19,
   "metadata": {},
   "outputs": [
    {
     "data": {
      "text/plain": "43"
     },
     "execution_count": 19,
     "metadata": {},
     "output_type": "execute_result"
    }
   ],
   "source": [
    "max_minutes = guards_counter.most_common()\n",
    "max_minutes[0][0]"
   ]
  },
  {
   "cell_type": "code",
   "execution_count": 20,
   "metadata": {},
   "outputs": [
    {
     "data": {
      "text/plain": "65489"
     },
     "execution_count": 20,
     "metadata": {},
     "output_type": "execute_result"
    }
   ],
   "source": [
    "result = max_minutes[0][0] * int(most_sleepy_guard[1][1:])\n",
    "result"
   ]
  }
 ],
 "metadata": {
  "kernelspec": {
   "display_name": "Python 3",
   "language": "python",
   "name": "python3"
  },
  "language_info": {
   "codemirror_mode": {
    "name": "ipython",
    "version": 3
   },
   "file_extension": ".py",
   "mimetype": "text/x-python",
   "name": "python",
   "nbconvert_exporter": "python",
   "pygments_lexer": "ipython3",
   "version": "3.6.3-final"
  }
 },
 "nbformat": 4,
 "nbformat_minor": 2
}